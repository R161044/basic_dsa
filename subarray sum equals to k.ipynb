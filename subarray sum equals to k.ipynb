{
 "cells": [
  {
   "cell_type": "code",
   "execution_count": 10,
   "id": "f74f324b-1822-46a6-801d-681d595bfbeb",
   "metadata": {},
   "outputs": [
    {
     "name": "stdout",
     "output_type": "stream",
     "text": [
      "3\n"
     ]
    }
   ],
   "source": [
    "def subarraysum(arr,k):\n",
    "    pre_in={0:1}\n",
    "    p_s=0\n",
    "    c=0\n",
    "\n",
    "    for i in arr:\n",
    "        p_s+=i\n",
    "\n",
    "        if (p_s-k) in pre_in:\n",
    "            c+=pre_in[p_s-k]\n",
    "        if p_s in pre_in:\n",
    "            pre_in[p_s]+=1\n",
    "        else:\n",
    "            pre_in[p_s]=i\n",
    "\n",
    "    return c\n",
    "arr=[1,1,1,1]\n",
    "k=2\n",
    "print(subarraysum(arr,k))"
   ]
  },
  {
   "cell_type": "code",
   "execution_count": null,
   "id": "18465c3a-f6ee-45e7-abe6-ca7c6fe7c464",
   "metadata": {},
   "outputs": [],
   "source": []
  }
 ],
 "metadata": {
  "kernelspec": {
   "display_name": "Python 3 (ipykernel)",
   "language": "python",
   "name": "python3"
  },
  "language_info": {
   "codemirror_mode": {
    "name": "ipython",
    "version": 3
   },
   "file_extension": ".py",
   "mimetype": "text/x-python",
   "name": "python",
   "nbconvert_exporter": "python",
   "pygments_lexer": "ipython3",
   "version": "3.11.7"
  }
 },
 "nbformat": 4,
 "nbformat_minor": 5
}
