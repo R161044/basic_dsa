{
 "cells": [
  {
   "cell_type": "code",
   "execution_count": 29,
   "id": "758de160-ae0a-49f1-a904-edb21b79e6fa",
   "metadata": {},
   "outputs": [
    {
     "name": "stdout",
     "output_type": "stream",
     "text": [
      "[1, 1, 4, 2, 1, 1, 0, 0]\n"
     ]
    }
   ],
   "source": [
    "def dailyTem(T):\n",
    "    val=[0]*len(T)\n",
    "    stack=[]\n",
    "\n",
    "    for i in range(len(T)):\n",
    "        while stack and T[i]>T[stack[-1]]:\n",
    "            index=stack.pop()\n",
    "            val[index]=i-index\n",
    "        stack.append(i)\n",
    "\n",
    "    return val\n",
    "T = [73, 74, 75, 71, 69, 72, 76, 73]\n",
    "print(dailyTem(T))"
   ]
  },
  {
   "cell_type": "code",
   "execution_count": null,
   "id": "8f5f60b7-7b76-495e-abb1-0216f75a9c41",
   "metadata": {},
   "outputs": [],
   "source": []
  },
  {
   "cell_type": "code",
   "execution_count": null,
   "id": "766a3b04-98ea-410f-9b6a-4a5acc021895",
   "metadata": {},
   "outputs": [],
   "source": []
  }
 ],
 "metadata": {
  "kernelspec": {
   "display_name": "Python 3 (ipykernel)",
   "language": "python",
   "name": "python3"
  },
  "language_info": {
   "codemirror_mode": {
    "name": "ipython",
    "version": 3
   },
   "file_extension": ".py",
   "mimetype": "text/x-python",
   "name": "python",
   "nbconvert_exporter": "python",
   "pygments_lexer": "ipython3",
   "version": "3.11.7"
  }
 },
 "nbformat": 4,
 "nbformat_minor": 5
}
