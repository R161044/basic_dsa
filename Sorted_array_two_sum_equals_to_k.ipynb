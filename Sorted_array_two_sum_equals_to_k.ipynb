{
 "cells": [
  {
   "cell_type": "code",
   "execution_count": 11,
   "id": "aff20b19-146e-43a9-afa7-04de58df2301",
   "metadata": {},
   "outputs": [
    {
     "name": "stdout",
     "output_type": "stream",
     "text": [
      "Indices of numbers that add up to the target: [2, 3]\n"
     ]
    }
   ],
   "source": [
    "def twoSum(numbers,target):\n",
    "    l=0\n",
    "    r=len(numbers)-1\n",
    "\n",
    "    while l<r:\n",
    "        c_s=numbers[l]+numbers[r]\n",
    "\n",
    "        if c_s==target:\n",
    "            return[l+1,r+1]\n",
    "        elif c_s<target:\n",
    "            l+=1\n",
    "        else:\n",
    "            r-=1\n",
    "numbers = [2, 7, 11, 15,18]\n",
    "target = 18\n",
    "print(\"Indices of numbers that add up to the target:\", twoSum(numbers, target))"
   ]
  },
  {
   "cell_type": "code",
   "execution_count": null,
   "id": "0325abce-c851-40aa-b16b-1906543cd200",
   "metadata": {},
   "outputs": [],
   "source": []
  }
 ],
 "metadata": {
  "kernelspec": {
   "display_name": "Python 3 (ipykernel)",
   "language": "python",
   "name": "python3"
  },
  "language_info": {
   "codemirror_mode": {
    "name": "ipython",
    "version": 3
   },
   "file_extension": ".py",
   "mimetype": "text/x-python",
   "name": "python",
   "nbconvert_exporter": "python",
   "pygments_lexer": "ipython3",
   "version": "3.11.7"
  }
 },
 "nbformat": 4,
 "nbformat_minor": 5
}
