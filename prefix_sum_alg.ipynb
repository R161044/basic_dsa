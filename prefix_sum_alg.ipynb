{
 "cells": [
  {
   "cell_type": "code",
   "execution_count": 4,
   "id": "cd58b9c7-cccb-400e-bb66-5e124967fbf5",
   "metadata": {},
   "outputs": [],
   "source": [
    "def build_prefix_sum(arr):\n",
    "    l=len(arr)\n",
    "    pre_sum=[0]*l\n",
    "    pre_sum[0]=arr[0]\n",
    "\n",
    "    for i in range(0,l):\n",
    "        pre_sum[i]=pre_sum[i-1]+arr[i]\n",
    "\n",
    "    return pre_sum"
   ]
  },
  {
   "cell_type": "code",
   "execution_count": 5,
   "id": "7164c122-bc7c-4231-a3e9-890c976b2d7b",
   "metadata": {},
   "outputs": [
    {
     "name": "stdout",
     "output_type": "stream",
     "text": [
      "[2, 10, 13, 22, 28, 33, 37]\n"
     ]
    }
   ],
   "source": [
    "arr = [2, 8, 3, 9, 6, 5, 4]\n",
    "prefix_sum = build_prefix_sum(arr)\n",
    "print(prefix_sum)"
   ]
  },
  {
   "cell_type": "code",
   "execution_count": 7,
   "id": "1037f442-8041-4e01-80f8-99d1991c0f79",
   "metadata": {},
   "outputs": [],
   "source": [
    "def range_sum(prefix_sum,l,r):\n",
    "    if l==0:\n",
    "        return prefix_sum[r]\n",
    "    else:\n",
    "        return prefix_sum[r]-prefix_sum[l-1]"
   ]
  },
  {
   "cell_type": "code",
   "execution_count": 10,
   "id": "0720b587-7329-4d9f-8db7-3ba47671dd0f",
   "metadata": {},
   "outputs": [
    {
     "name": "stdout",
     "output_type": "stream",
     "text": [
      "[13, 27, 20]\n"
     ]
    }
   ],
   "source": [
    "queries=[(0,2),(2,6),(1,3)]\n",
    "results=[]\n",
    "\n",
    "for l,r in queries:\n",
    "    result=range_sum(prefix_sum,l,r)\n",
    "    results.append(result)\n",
    "\n",
    "print(results)"
   ]
  },
  {
   "cell_type": "code",
   "execution_count": null,
   "id": "1900013a-f7d2-42f1-a8cf-c47170d0c318",
   "metadata": {},
   "outputs": [],
   "source": []
  }
 ],
 "metadata": {
  "kernelspec": {
   "display_name": "Python 3 (ipykernel)",
   "language": "python",
   "name": "python3"
  },
  "language_info": {
   "codemirror_mode": {
    "name": "ipython",
    "version": 3
   },
   "file_extension": ".py",
   "mimetype": "text/x-python",
   "name": "python",
   "nbconvert_exporter": "python",
   "pygments_lexer": "ipython3",
   "version": "3.11.7"
  }
 },
 "nbformat": 4,
 "nbformat_minor": 5
}
