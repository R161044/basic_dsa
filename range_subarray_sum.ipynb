{
 "cells": [
  {
   "cell_type": "code",
   "execution_count": 37,
   "id": "725122da-2314-4099-8d66-044d8f1ea05b",
   "metadata": {},
   "outputs": [
    {
     "name": "stdout",
     "output_type": "stream",
     "text": [
      "prefix_sum array [0, -2, -2, 1, -4, -2, -3]\n",
      "-4\n"
     ]
    }
   ],
   "source": [
    "class NumArr:\n",
    "    def __init__(self,nums:list[int]):\n",
    "        self.prefix=[0]*(len(nums)+1)\n",
    "\n",
    "        for i in range(len(nums)):\n",
    "            self.prefix[i+1]=self.prefix[i]+nums[i]\n",
    "\n",
    "    def print_pref(self):\n",
    "        print('prefix_sum array',self.prefix)\n",
    "\n",
    "    def range(self,left:int,right:int)->int:\n",
    "        return self.prefix[right+1]-self.prefix[left]\n",
    "\n",
    "\n",
    "nums = [-2, 0, 3, -5, 2, -1]\n",
    "nn=NumArr(nums)\n",
    "nn.print_pref()\n",
    "print(nn.range(0,3))"
   ]
  },
  {
   "cell_type": "code",
   "execution_count": null,
   "id": "55c33815-4daf-4ad7-866d-7c6cf536f873",
   "metadata": {},
   "outputs": [],
   "source": []
  },
  {
   "cell_type": "code",
   "execution_count": null,
   "id": "1070ce78-52ff-4c7f-916d-26af986526a0",
   "metadata": {},
   "outputs": [],
   "source": []
  }
 ],
 "metadata": {
  "kernelspec": {
   "display_name": "Python 3 (ipykernel)",
   "language": "python",
   "name": "python3"
  },
  "language_info": {
   "codemirror_mode": {
    "name": "ipython",
    "version": 3
   },
   "file_extension": ".py",
   "mimetype": "text/x-python",
   "name": "python",
   "nbconvert_exporter": "python",
   "pygments_lexer": "ipython3",
   "version": "3.11.7"
  }
 },
 "nbformat": 4,
 "nbformat_minor": 5
}
