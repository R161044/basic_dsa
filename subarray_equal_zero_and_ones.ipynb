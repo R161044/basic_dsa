{
 "cells": [
  {
   "cell_type": "code",
   "execution_count": 71,
   "id": "725122da-2314-4099-8d66-044d8f1ea05b",
   "metadata": {},
   "outputs": [
    {
     "name": "stdout",
     "output_type": "stream",
     "text": [
      "10\n"
     ]
    }
   ],
   "source": [
    "def findMaxLength(nums):\n",
    "    pre_in={0:-1}\n",
    "    pre_sum=0\n",
    "    l_m=0\n",
    "    l=0\n",
    "\n",
    "    for i,num in enumerate(nums):\n",
    "        pre_sum+=1 if num==1 else -1\n",
    "\n",
    "        if pre_sum in pre_in:\n",
    "            l=i-pre_in[pre_sum]\n",
    "            l_m=max(l,l_m)\n",
    "        else:\n",
    "            pre_in[pre_sum]=i\n",
    "\n",
    "    return l_m\n",
    "nums = [1,1,0,0,1,1,0,0,0,1]\n",
    "print(findMaxLength(nums))"
   ]
  },
  {
   "cell_type": "code",
   "execution_count": null,
   "id": "55c33815-4daf-4ad7-866d-7c6cf536f873",
   "metadata": {},
   "outputs": [],
   "source": []
  },
  {
   "cell_type": "code",
   "execution_count": null,
   "id": "1070ce78-52ff-4c7f-916d-26af986526a0",
   "metadata": {},
   "outputs": [],
   "source": []
  }
 ],
 "metadata": {
  "kernelspec": {
   "display_name": "Python 3 (ipykernel)",
   "language": "python",
   "name": "python3"
  },
  "language_info": {
   "codemirror_mode": {
    "name": "ipython",
    "version": 3
   },
   "file_extension": ".py",
   "mimetype": "text/x-python",
   "name": "python",
   "nbconvert_exporter": "python",
   "pygments_lexer": "ipython3",
   "version": "3.11.7"
  }
 },
 "nbformat": 4,
 "nbformat_minor": 5
}
