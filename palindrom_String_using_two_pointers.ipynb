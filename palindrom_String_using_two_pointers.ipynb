{
 "cells": [
  {
   "cell_type": "code",
   "execution_count": 2,
   "id": "1046aa58-f071-4cda-b8b1-7eddcd37427e",
   "metadata": {},
   "outputs": [
    {
     "name": "stdout",
     "output_type": "stream",
     "text": [
      "True\n"
     ]
    }
   ],
   "source": [
    "def pal_or_not(arr):\n",
    "    left=0\n",
    "    right=len(arr)-1\n",
    "    pal=True\n",
    "\n",
    "    while left<right:\n",
    "        if arr[left]!=arr[right]:\n",
    "            pal=False\n",
    "        left+=1\n",
    "        right-=1\n",
    "            \n",
    "    return pal\n",
    "\n",
    "\n",
    "arr='madam'\n",
    "print(pal_or_not(arr))"
   ]
  },
  {
   "cell_type": "code",
   "execution_count": null,
   "id": "ce4051ee-90e2-4429-8eb3-304e52c8ea2b",
   "metadata": {},
   "outputs": [],
   "source": []
  }
 ],
 "metadata": {
  "kernelspec": {
   "display_name": "Python 3 (ipykernel)",
   "language": "python",
   "name": "python3"
  },
  "language_info": {
   "codemirror_mode": {
    "name": "ipython",
    "version": 3
   },
   "file_extension": ".py",
   "mimetype": "text/x-python",
   "name": "python",
   "nbconvert_exporter": "python",
   "pygments_lexer": "ipython3",
   "version": "3.11.7"
  }
 },
 "nbformat": 4,
 "nbformat_minor": 5
}
