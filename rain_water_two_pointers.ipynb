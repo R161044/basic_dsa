{
 "cells": [
  {
   "cell_type": "code",
   "execution_count": 4,
   "id": "807c4cbc-2626-4973-b56a-a3ebeb4f735f",
   "metadata": {},
   "outputs": [
    {
     "name": "stdout",
     "output_type": "stream",
     "text": [
      "6\n"
     ]
    }
   ],
   "source": [
    "def trap(height):\n",
    "    if not height:\n",
    "        return 0\n",
    "\n",
    "    left,right=0,len(height)-1\n",
    "    left_max=height[left]\n",
    "    right_max=height[right]\n",
    "    count=0\n",
    "\n",
    "\n",
    "    while left<right:\n",
    "        if height[left]<height[right]:\n",
    "            \n",
    "            if height[left]>=left_max:\n",
    "                left_max=height[left]\n",
    "            else:\n",
    "                count+=left_max-height[left]\n",
    "\n",
    "            left+=1\n",
    "\n",
    "        else:\n",
    "            if height[right]>=right_max:\n",
    "                right_max=height[right]\n",
    "            else:\n",
    "                count+=right_max-height[right]\n",
    "\n",
    "            right-=1\n",
    "\n",
    "\n",
    "    return count\n",
    "height = [0, 1, 0, 2, 1, 0, 1, 3, 2, 1, 2, 1]\n",
    "print(trap(height))  # Output: 6\n"
   ]
  },
  {
   "cell_type": "code",
   "execution_count": null,
   "id": "9ae77bb5-4ee3-4990-ba0c-ab9a1efdb729",
   "metadata": {},
   "outputs": [],
   "source": []
  }
 ],
 "metadata": {
  "kernelspec": {
   "display_name": "Python 3 (ipykernel)",
   "language": "python",
   "name": "python3"
  },
  "language_info": {
   "codemirror_mode": {
    "name": "ipython",
    "version": 3
   },
   "file_extension": ".py",
   "mimetype": "text/x-python",
   "name": "python",
   "nbconvert_exporter": "python",
   "pygments_lexer": "ipython3",
   "version": "3.11.7"
  }
 },
 "nbformat": 4,
 "nbformat_minor": 5
}
