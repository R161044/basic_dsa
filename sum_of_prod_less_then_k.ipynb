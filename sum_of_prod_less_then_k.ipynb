{
 "cells": [
  {
   "cell_type": "code",
   "execution_count": 6,
   "id": "5b4368f2-581c-4cdd-99be-2ef393c0676a",
   "metadata": {},
   "outputs": [
    {
     "name": "stdout",
     "output_type": "stream",
     "text": [
      "8\n"
     ]
    }
   ],
   "source": [
    "def num_subarrays_with_product_less_than_k(nums,k):\n",
    "    if k<=1:\n",
    "        return 0\n",
    "\n",
    "    left,product=0,1\n",
    "    count=0\n",
    "\n",
    "    for right in range(len(nums)):\n",
    "        product *=nums[right]\n",
    "\n",
    "        while product>=k:\n",
    "            product/=nums[left]\n",
    "            left +=1\n",
    "\n",
    "\n",
    "        count +=right-left+1\n",
    "\n",
    "\n",
    "    print(count)\n",
    "\n",
    "\n",
    "nums = [10, 5, 2, 6]\n",
    "k = 100\n",
    "num_subarrays_with_product_less_than_k(nums, k)"
   ]
  },
  {
   "cell_type": "code",
   "execution_count": null,
   "id": "338ce31a-a618-4235-815e-e62a8a035eee",
   "metadata": {},
   "outputs": [],
   "source": []
  }
 ],
 "metadata": {
  "kernelspec": {
   "display_name": "Python 3 (ipykernel)",
   "language": "python",
   "name": "python3"
  },
  "language_info": {
   "codemirror_mode": {
    "name": "ipython",
    "version": 3
   },
   "file_extension": ".py",
   "mimetype": "text/x-python",
   "name": "python",
   "nbconvert_exporter": "python",
   "pygments_lexer": "ipython3",
   "version": "3.11.7"
  }
 },
 "nbformat": 4,
 "nbformat_minor": 5
}
