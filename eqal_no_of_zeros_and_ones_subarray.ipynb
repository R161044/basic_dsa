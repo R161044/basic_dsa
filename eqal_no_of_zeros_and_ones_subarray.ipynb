{
 "cells": [
  {
   "cell_type": "code",
   "execution_count": 7,
   "id": "f74f324b-1822-46a6-801d-681d595bfbeb",
   "metadata": {},
   "outputs": [
    {
     "name": "stdout",
     "output_type": "stream",
     "text": [
      "10\n"
     ]
    }
   ],
   "source": [
    "def equal_no_ones_zeros_sub_array(arr):\n",
    "    pre_ind={0:-1}\n",
    "    p_s=0\n",
    "    m_l=0\n",
    "    l=0\n",
    "\n",
    "    for i,nums in enumerate(arr):\n",
    "        p_s += 1 if nums==1 else -1\n",
    "\n",
    "        if p_s in pre_ind:\n",
    "            l=i-pre_ind[p_s]\n",
    "            m_l=max(m_l,l)\n",
    "        else:\n",
    "            pre_ind[p_s]=i\n",
    "\n",
    "    return m_l\n",
    "\n",
    "arr=[1,1,1,1,0,0,0,0,1,0,1]\n",
    "print(equal_no_ones_zeros_sub_array(arr))"
   ]
  },
  {
   "cell_type": "code",
   "execution_count": null,
   "id": "18465c3a-f6ee-45e7-abe6-ca7c6fe7c464",
   "metadata": {},
   "outputs": [],
   "source": []
  }
 ],
 "metadata": {
  "kernelspec": {
   "display_name": "Python 3 (ipykernel)",
   "language": "python",
   "name": "python3"
  },
  "language_info": {
   "codemirror_mode": {
    "name": "ipython",
    "version": 3
   },
   "file_extension": ".py",
   "mimetype": "text/x-python",
   "name": "python",
   "nbconvert_exporter": "python",
   "pygments_lexer": "ipython3",
   "version": "3.11.7"
  }
 },
 "nbformat": 4,
 "nbformat_minor": 5
}
