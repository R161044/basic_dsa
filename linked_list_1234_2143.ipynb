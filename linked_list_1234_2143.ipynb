{
 "cells": [
  {
   "cell_type": "code",
   "execution_count": 7,
   "id": "99883629-5134-4180-9f5a-cca6a8e94a5a",
   "metadata": {},
   "outputs": [
    {
     "name": "stdout",
     "output_type": "stream",
     "text": [
      "1->2->3->4->\n",
      "2->1->4->3->\n"
     ]
    }
   ],
   "source": [
    "class ListNode:\n",
    "    def __init__(self,val=0,next=None):\n",
    "        self.val=val\n",
    "        self.next=next\n",
    "\n",
    "def revList(head:ListNode)->ListNode:\n",
    "    dummy=ListNode(-1)\n",
    "    dummy.next=head\n",
    "\n",
    "    prev=dummy\n",
    "    current=head\n",
    "\n",
    "    while current and current.next:\n",
    "        first=current\n",
    "        second=current.next\n",
    "\n",
    "        prev.next=second\n",
    "        first.next=second.next\n",
    "        second.next=first\n",
    "\n",
    "        prev=first\n",
    "        current=first.next\n",
    "\n",
    "    return dummy.next\n",
    "\n",
    "def print_list(head):\n",
    "    while head:\n",
    "        print(head.val,end='->')\n",
    "        head=head.next\n",
    "    print()\n",
    "\n",
    "\n",
    "\n",
    "head = ListNode(1, ListNode(2, ListNode(3, ListNode(4))))\n",
    "\n",
    "# Swap pairs\n",
    "#new_head = swapPairs(head)\n",
    "\n",
    "# Print the swapped list\n",
    "print_list(head)\n",
    "node=revList(head)\n",
    "print_list(node)"
   ]
  },
  {
   "cell_type": "code",
   "execution_count": null,
   "id": "87ecdac4-5020-4080-9a36-90128d97ab00",
   "metadata": {},
   "outputs": [],
   "source": []
  }
 ],
 "metadata": {
  "kernelspec": {
   "display_name": "Python 3 (ipykernel)",
   "language": "python",
   "name": "python3"
  },
  "language_info": {
   "codemirror_mode": {
    "name": "ipython",
    "version": 3
   },
   "file_extension": ".py",
   "mimetype": "text/x-python",
   "name": "python",
   "nbconvert_exporter": "python",
   "pygments_lexer": "ipython3",
   "version": "3.11.7"
  }
 },
 "nbformat": 4,
 "nbformat_minor": 5
}
