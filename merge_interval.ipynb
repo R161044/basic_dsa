{
 "cells": [
  {
   "cell_type": "code",
   "execution_count": 5,
   "id": "54243c9b-9429-4085-bae1-2d27206ec02b",
   "metadata": {},
   "outputs": [
    {
     "name": "stdout",
     "output_type": "stream",
     "text": [
      "[[1, 6], [8, 10], [15, 18]]\n"
     ]
    }
   ],
   "source": [
    "def merge(intervals):\n",
    "    mer=[]\n",
    "\n",
    "    for interval in intervals:\n",
    "        if not mer or mer[-1][1]<interval[0]:\n",
    "            mer.append(interval)\n",
    "        else:\n",
    "            mer[-1][1]=max(mer[-1][1],interval[1])\n",
    "    return mer\n",
    "intervals = [[1,3],[2,6],[8,10],[15,18]]\n",
    "print(merge(intervals)) "
   ]
  },
  {
   "cell_type": "code",
   "execution_count": null,
   "id": "dac0e6b5-ed94-4581-8957-5c604c70c8f4",
   "metadata": {},
   "outputs": [],
   "source": []
  }
 ],
 "metadata": {
  "kernelspec": {
   "display_name": "Python 3 (ipykernel)",
   "language": "python",
   "name": "python3"
  },
  "language_info": {
   "codemirror_mode": {
    "name": "ipython",
    "version": 3
   },
   "file_extension": ".py",
   "mimetype": "text/x-python",
   "name": "python",
   "nbconvert_exporter": "python",
   "pygments_lexer": "ipython3",
   "version": "3.11.7"
  }
 },
 "nbformat": 4,
 "nbformat_minor": 5
}
